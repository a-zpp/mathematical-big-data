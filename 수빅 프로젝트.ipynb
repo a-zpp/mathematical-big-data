{
 "cells": [
  {
   "cell_type": "code",
   "execution_count": 1,
   "metadata": {},
   "outputs": [],
   "source": [
    "import pandas as pd\n",
    "from pandas import DataFrame\n",
    "import numpy as np\n",
    "\n",
    "import folium\n",
    "import networkx as nx"
   ]
  },
  {
   "cell_type": "code",
   "execution_count": 216,
   "metadata": {},
   "outputs": [],
   "source": [
    "Daegu = folium.Map(location=[35.85,128.6],zoom_start=13)\n",
    "link_data=pd.read_csv('Daegu_link_1.csv') \n",
    "node_data=pd.read_csv('Daegu_node_1.csv') "
   ]
  },
  {
   "cell_type": "code",
   "execution_count": 181,
   "metadata": {},
   "outputs": [],
   "source": [
    "link_node=link_data.F_NODE.tolist()+link_data.T_NODE.tolist()\n",
    "link_node=list(set(link_node))\n",
    "link_node=pd.DataFrame(link_node,columns=['NODE_ID'])\n",
    "node_node=node_data[['NODE_ID','X','Y','STNL_REG']]\n",
    "node_set=pd.merge(node_node,link_node,on='NODE_ID')\n",
    "front=link_data[['LINK_ID', 'F_NODE']]\n",
    "tail=link_data[['LINK_ID', 'T_NODE']]\n",
    "node_node2=node_node.drop('STNL_REG',axis=1)\n",
    "node_node3=node_node2.rename(columns={'NODE_ID':'F_NODE' , 'X':'F_X', 'Y':'F_Y' })\n",
    "node_node4=node_node2.rename(columns={'NODE_ID':'T_NODE' , 'X':'T_X', 'Y':'T_Y' })\n",
    "front2=pd.merge(front,node_node3,on='F_NODE')\n",
    "tail2=pd.merge(tail,node_node4,on='T_NODE')\n",
    "node5=pd.merge(front2,tail2, on = 'LINK_ID')"
   ]
  },
  {
   "cell_type": "code",
   "execution_count": 182,
   "metadata": {},
   "outputs": [],
   "source": [
    "G=nx.DiGraph()\n",
    "G.add_nodes_from(node_set.NODE_ID.tolist())\n",
    "for i in range (0,len(node5)):\n",
    "    G.add_edge(node5.F_NODE[i],node5.T_NODE[i])\n",
    "    folium.PolyLine([(node5.F_Y[i],node5.F_X[i]),(node5.T_Y[i],node5.T_X[i])],color='black').add_to(Daegu)\n",
    "BC=nx.betweenness_centrality(G)\n",
    "CC=nx.closeness_centrality(G)"
   ]
  },
  {
   "cell_type": "code",
   "execution_count": 183,
   "metadata": {},
   "outputs": [],
   "source": [
    "BC_keys=list(BC.keys())\n",
    "BC_values=list(BC.values())\n",
    "CC_keys=list(CC.keys())\n",
    "CC_values=list(CC.values())\n",
    "\n",
    "BC1=pd.DataFrame({'NODE_ID':BC_keys,'BC':BC_values})\n",
    "CC1=pd.DataFrame({'NODE_ID':CC_keys,'CC':CC_values})\n",
    "BC_CC=pd.merge(BC1,CC1,on='NODE_ID')\n",
    "node_set=pd.merge(node_set,BC_CC,on='NODE_ID')"
   ]
  },
  {
   "cell_type": "code",
   "execution_count": 217,
   "metadata": {},
   "outputs": [],
   "source": [
    "layer1=folium.FeatureGroup(name='node')\n",
    "layer2=folium.FeatureGroup(name='BC')\n",
    "layer3=folium.FeatureGroup(name='CC')\n",
    "for i in range (0,len(node_set)):\n",
    "    folium.CircleMarker(location=[node_set.Y[i],node_set.X[i]],tooltip = node_set.STNL_REG[i],color='yellow',fill=True,fill_color='yellow').add_to(layer1)\n",
    "    folium.CircleMarker(location=[node_set.Y[i],node_set.X[i]],tooltip = node_set.CC[i],color='pink',fill=True,fill_color='red',radius=5+100*node_set.CC[i]).add_to(layer2)\n",
    "    folium.CircleMarker(location=[node_set.Y[i],node_set.X[i]],tooltip = node_set.BC[i],color='sky blue',fill=True,fill_color='blue',radius=5+500*node_set.BC[i]).add_to(layer3)\n",
    "Daegu.add_child(layer1)\n",
    "Daegu.add_child(layer2)\n",
    "Daegu.add_child(layer3)\n",
    "Daegu.add_child(folium.LayerControl())\n",
    "Daegu.save('Daegu.html')   "
   ]
  },
  {
   "cell_type": "code",
   "execution_count": null,
   "metadata": {},
   "outputs": [],
   "source": []
  }
 ],
 "metadata": {
  "kernelspec": {
   "display_name": "Python 3",
   "language": "python",
   "name": "python3"
  },
  "language_info": {
   "codemirror_mode": {
    "name": "ipython",
    "version": 3
   },
   "file_extension": ".py",
   "mimetype": "text/x-python",
   "name": "python",
   "nbconvert_exporter": "python",
   "pygments_lexer": "ipython3",
   "version": "3.8.5"
  }
 },
 "nbformat": 4,
 "nbformat_minor": 2
}
